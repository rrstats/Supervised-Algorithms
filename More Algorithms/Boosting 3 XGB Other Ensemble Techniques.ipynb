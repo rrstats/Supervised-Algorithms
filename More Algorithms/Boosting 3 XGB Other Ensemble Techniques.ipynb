{
 "cells": [
  {
   "cell_type": "code",
   "execution_count": 1,
   "id": "93a9da5c-046b-4676-8c30-a290e7fb538d",
   "metadata": {},
   "outputs": [],
   "source": [
    "import matplotlib.pyplot as plt\n",
    "import numpy as np\n",
    "import os\n",
    "import pandas as pd\n",
    "import sklearn"
   ]
  },
  {
   "cell_type": "code",
   "execution_count": 2,
   "id": "1e205026-53fd-4258-8497-b5599f5b2333",
   "metadata": {},
   "outputs": [],
   "source": [
    "#Classifying EMG signals into various categories"
   ]
  },
  {
   "cell_type": "code",
   "execution_count": 3,
   "id": "ac429228-42fa-4af8-ba8f-0a322a0d9f93",
   "metadata": {},
   "outputs": [
    {
     "name": "stdout",
     "output_type": "stream",
     "text": [
      "{'Elbowing': 0, 'Frontkicking': 0, 'Hamering': 0, 'Headering': 0, 'Kneeing': 0, 'Pulling': 0, 'Punching': 0, 'Pushing': 0, 'Sidekicking': 0, 'Slapping': 0, 'Bowing': 1, 'Clapping': 1, 'Handshaking': 1, 'Hugging': 1, 'Jumping': 1, 'Running': 1, 'Seating': 1, 'Standing': 1, 'Walking': 1, 'Waving': 1}\n"
     ]
    }
   ],
   "source": [
    "import os\n",
    "import pandas as pd\n",
    "\n",
    "actions = {}\n",
    "\n",
    "data_dirs = [\"./EMG Physical Action Data Set/sub1/Aggressive/txt\",\n",
    "             \"./EMG Physical Action Data Set/sub1/Normal/txt\"]\n",
    "\n",
    "ind = 0\n",
    "data = pd.DataFrame()\n",
    "\n",
    "for dirs in data_dirs:\n",
    "    for files in os.listdir(dirs):\n",
    "        with open(os.path.join(dirs, files), \"r\") as f:\n",
    "            temp = pd.read_csv(f.name,\n",
    "                               sep=\"\\t\",\n",
    "                               header=None,\n",
    "                               names=[\"ch\" + str(i) for i in range(1, 9)])  # 8 input characters\n",
    "\n",
    "            # Chunking using MAX of every 10 sequential values\n",
    "            temp_chunked = pd.DataFrame()\n",
    "\n",
    "            for i in range(0, len(temp), 10):\n",
    "                temp_chunked = pd.concat([temp_chunked, temp.iloc[i:i+10].max().to_frame().T], ignore_index=True)\n",
    "\n",
    "            labels = [files[:-4] for i in range(len(temp_chunked))]\n",
    "            actions[files[:-4]] = ind\n",
    "\n",
    "            temp_chunked[\"Action\"] = labels\n",
    "\n",
    "            data = pd.concat([data, temp_chunked])\n",
    "\n",
    "    ind += 1\n",
    "\n",
    "print(actions)\n"
   ]
  },
  {
   "cell_type": "code",
   "execution_count": 4,
   "id": "f0d82416-fe8d-4055-8441-52edf9791a64",
   "metadata": {},
   "outputs": [
    {
     "data": {
      "text/html": [
       "<div>\n",
       "<style scoped>\n",
       "    .dataframe tbody tr th:only-of-type {\n",
       "        vertical-align: middle;\n",
       "    }\n",
       "\n",
       "    .dataframe tbody tr th {\n",
       "        vertical-align: top;\n",
       "    }\n",
       "\n",
       "    .dataframe thead th {\n",
       "        text-align: right;\n",
       "    }\n",
       "</style>\n",
       "<table border=\"1\" class=\"dataframe\">\n",
       "  <thead>\n",
       "    <tr style=\"text-align: right;\">\n",
       "      <th></th>\n",
       "      <th>ch1</th>\n",
       "      <th>ch2</th>\n",
       "      <th>ch3</th>\n",
       "      <th>ch4</th>\n",
       "      <th>ch5</th>\n",
       "      <th>ch6</th>\n",
       "      <th>ch7</th>\n",
       "      <th>ch8</th>\n",
       "      <th>Action</th>\n",
       "    </tr>\n",
       "  </thead>\n",
       "  <tbody>\n",
       "    <tr>\n",
       "      <th>0</th>\n",
       "      <td>717</td>\n",
       "      <td>391</td>\n",
       "      <td>2615</td>\n",
       "      <td>-29</td>\n",
       "      <td>4000</td>\n",
       "      <td>205</td>\n",
       "      <td>1084</td>\n",
       "      <td>4000</td>\n",
       "      <td>Elbowing</td>\n",
       "    </tr>\n",
       "    <tr>\n",
       "      <th>1</th>\n",
       "      <td>1036</td>\n",
       "      <td>251</td>\n",
       "      <td>2989</td>\n",
       "      <td>162</td>\n",
       "      <td>4000</td>\n",
       "      <td>2971</td>\n",
       "      <td>3062</td>\n",
       "      <td>4000</td>\n",
       "      <td>Elbowing</td>\n",
       "    </tr>\n",
       "    <tr>\n",
       "      <th>2</th>\n",
       "      <td>3705</td>\n",
       "      <td>30</td>\n",
       "      <td>4000</td>\n",
       "      <td>549</td>\n",
       "      <td>4000</td>\n",
       "      <td>2940</td>\n",
       "      <td>-1767</td>\n",
       "      <td>-205</td>\n",
       "      <td>Elbowing</td>\n",
       "    </tr>\n",
       "    <tr>\n",
       "      <th>3</th>\n",
       "      <td>2679</td>\n",
       "      <td>347</td>\n",
       "      <td>1566</td>\n",
       "      <td>167</td>\n",
       "      <td>-4000</td>\n",
       "      <td>2758</td>\n",
       "      <td>-3965</td>\n",
       "      <td>785</td>\n",
       "      <td>Elbowing</td>\n",
       "    </tr>\n",
       "    <tr>\n",
       "      <th>4</th>\n",
       "      <td>1689</td>\n",
       "      <td>77</td>\n",
       "      <td>4000</td>\n",
       "      <td>-246</td>\n",
       "      <td>4000</td>\n",
       "      <td>2422</td>\n",
       "      <td>-1767</td>\n",
       "      <td>360</td>\n",
       "      <td>Elbowing</td>\n",
       "    </tr>\n",
       "  </tbody>\n",
       "</table>\n",
       "</div>"
      ],
      "text/plain": [
       "    ch1  ch2   ch3  ch4   ch5   ch6   ch7   ch8    Action\n",
       "0   717  391  2615  -29  4000   205  1084  4000  Elbowing\n",
       "1  1036  251  2989  162  4000  2971  3062  4000  Elbowing\n",
       "2  3705   30  4000  549  4000  2940 -1767  -205  Elbowing\n",
       "3  2679  347  1566  167 -4000  2758 -3965   785  Elbowing\n",
       "4  1689   77  4000 -246  4000  2422 -1767   360  Elbowing"
      ]
     },
     "execution_count": 4,
     "metadata": {},
     "output_type": "execute_result"
    }
   ],
   "source": [
    "data.head()"
   ]
  },
  {
   "cell_type": "code",
   "execution_count": 5,
   "id": "6c65b546-21f2-4b6a-a6ed-dcc6c5044e0a",
   "metadata": {},
   "outputs": [],
   "source": [
    "Y =data[\"Action\"]\n",
    "X = data.drop(columns = [\"Action\"])"
   ]
  },
  {
   "cell_type": "code",
   "execution_count": 6,
   "id": "e9b000a0-5734-4140-8c65-013e86dc81a5",
   "metadata": {},
   "outputs": [
    {
     "name": "stdout",
     "output_type": "stream",
     "text": [
      "['Elbowing' 'Frontkicking' 'Hamering' 'Headering' 'Kneeing' 'Pulling'\n",
      " 'Punching' 'Pushing' 'Sidekicking' 'Slapping' 'Bowing' 'Clapping'\n",
      " 'Handshaking' 'Hugging' 'Jumping' 'Running' 'Seating' 'Standing'\n",
      " 'Walking' 'Waving']\n"
     ]
    }
   ],
   "source": [
    "print(Y.unique())"
   ]
  },
  {
   "cell_type": "code",
   "execution_count": 7,
   "id": "5183e966-059c-4e14-852f-628690736353",
   "metadata": {},
   "outputs": [
    {
     "data": {
      "text/plain": [
       "0    0\n",
       "1    0\n",
       "2    0\n",
       "3    0\n",
       "4    0\n",
       "Name: Action, dtype: int64"
      ]
     },
     "execution_count": 7,
     "metadata": {},
     "output_type": "execute_result"
    }
   ],
   "source": [
    "Y = Y.map(actions)\n",
    "Y.head()"
   ]
  },
  {
   "cell_type": "code",
   "execution_count": 8,
   "id": "b78c2fd6-4571-493a-bcda-c5ae1d1a2ac4",
   "metadata": {},
   "outputs": [
    {
     "data": {
      "text/html": [
       "<div>\n",
       "<style scoped>\n",
       "    .dataframe tbody tr th:only-of-type {\n",
       "        vertical-align: middle;\n",
       "    }\n",
       "\n",
       "    .dataframe tbody tr th {\n",
       "        vertical-align: top;\n",
       "    }\n",
       "\n",
       "    .dataframe thead th {\n",
       "        text-align: right;\n",
       "    }\n",
       "</style>\n",
       "<table border=\"1\" class=\"dataframe\">\n",
       "  <thead>\n",
       "    <tr style=\"text-align: right;\">\n",
       "      <th></th>\n",
       "      <th>ch1</th>\n",
       "      <th>ch2</th>\n",
       "      <th>ch3</th>\n",
       "      <th>ch4</th>\n",
       "      <th>ch5</th>\n",
       "      <th>ch6</th>\n",
       "      <th>ch7</th>\n",
       "      <th>ch8</th>\n",
       "    </tr>\n",
       "  </thead>\n",
       "  <tbody>\n",
       "    <tr>\n",
       "      <th>0</th>\n",
       "      <td>717</td>\n",
       "      <td>391</td>\n",
       "      <td>2615</td>\n",
       "      <td>29</td>\n",
       "      <td>4000</td>\n",
       "      <td>205</td>\n",
       "      <td>1084</td>\n",
       "      <td>4000</td>\n",
       "    </tr>\n",
       "    <tr>\n",
       "      <th>1</th>\n",
       "      <td>1036</td>\n",
       "      <td>251</td>\n",
       "      <td>2989</td>\n",
       "      <td>162</td>\n",
       "      <td>4000</td>\n",
       "      <td>2971</td>\n",
       "      <td>3062</td>\n",
       "      <td>4000</td>\n",
       "    </tr>\n",
       "    <tr>\n",
       "      <th>2</th>\n",
       "      <td>3705</td>\n",
       "      <td>30</td>\n",
       "      <td>4000</td>\n",
       "      <td>549</td>\n",
       "      <td>4000</td>\n",
       "      <td>2940</td>\n",
       "      <td>1767</td>\n",
       "      <td>205</td>\n",
       "    </tr>\n",
       "    <tr>\n",
       "      <th>3</th>\n",
       "      <td>2679</td>\n",
       "      <td>347</td>\n",
       "      <td>1566</td>\n",
       "      <td>167</td>\n",
       "      <td>4000</td>\n",
       "      <td>2758</td>\n",
       "      <td>3965</td>\n",
       "      <td>785</td>\n",
       "    </tr>\n",
       "    <tr>\n",
       "      <th>4</th>\n",
       "      <td>1689</td>\n",
       "      <td>77</td>\n",
       "      <td>4000</td>\n",
       "      <td>246</td>\n",
       "      <td>4000</td>\n",
       "      <td>2422</td>\n",
       "      <td>1767</td>\n",
       "      <td>360</td>\n",
       "    </tr>\n",
       "  </tbody>\n",
       "</table>\n",
       "</div>"
      ],
      "text/plain": [
       "    ch1  ch2   ch3  ch4   ch5   ch6   ch7   ch8\n",
       "0   717  391  2615   29  4000   205  1084  4000\n",
       "1  1036  251  2989  162  4000  2971  3062  4000\n",
       "2  3705   30  4000  549  4000  2940  1767   205\n",
       "3  2679  347  1566  167  4000  2758  3965   785\n",
       "4  1689   77  4000  246  4000  2422  1767   360"
      ]
     },
     "execution_count": 8,
     "metadata": {},
     "output_type": "execute_result"
    }
   ],
   "source": [
    "X = abs(X)\n",
    "X.head()"
   ]
  },
  {
   "cell_type": "code",
   "execution_count": 9,
   "id": "e6b28efd-f099-4cbe-b2bd-57b356582015",
   "metadata": {},
   "outputs": [
    {
     "name": "stdout",
     "output_type": "stream",
     "text": [
      "<class 'pandas.core.frame.DataFrame'>\n",
      "Index: 19711 entries, 0 to 999\n",
      "Data columns (total 8 columns):\n",
      " #   Column  Non-Null Count  Dtype\n",
      "---  ------  --------------  -----\n",
      " 0   ch1     19711 non-null  int64\n",
      " 1   ch2     19711 non-null  int64\n",
      " 2   ch3     19711 non-null  int64\n",
      " 3   ch4     19711 non-null  int64\n",
      " 4   ch5     19711 non-null  int64\n",
      " 5   ch6     19711 non-null  int64\n",
      " 6   ch7     19711 non-null  int64\n",
      " 7   ch8     19711 non-null  int64\n",
      "dtypes: int64(8)\n",
      "memory usage: 1.4 MB\n"
     ]
    }
   ],
   "source": [
    "X - X.ewm(10).mean()\n",
    "X.info()"
   ]
  },
  {
   "cell_type": "code",
   "execution_count": 10,
   "id": "937d24fc-453a-4173-9d77-8006e15c3c73",
   "metadata": {},
   "outputs": [
    {
     "name": "stdout",
     "output_type": "stream",
     "text": [
      "Sizes of the sets created are: \n",
      "Training set:15768\n",
      "Test set:3943\n"
     ]
    }
   ],
   "source": [
    "from sklearn.model_selection import train_test_split\n",
    "\n",
    "X = np.array(X.values)\n",
    "Y = np.array(Y.values)\n",
    "\n",
    "X_train, X_test, Y_train, Y_test = train_test_split(X, Y, test_size = 0.2, shuffle = True)\n",
    "\n",
    "print(f\"Sizes of the sets created are: \\nTraining set:{X_train.shape[0]}\\nTest set:{X_test.shape[0]}\")"
   ]
  },
  {
   "cell_type": "markdown",
   "id": "1d41c54a-f473-4d6e-a07b-0b0b6fa72e4a",
   "metadata": {},
   "source": [
    "## XGBoost"
   ]
  },
  {
   "cell_type": "code",
   "execution_count": 13,
   "id": "49b1b084-db3c-45d6-83c1-fe9618b9f899",
   "metadata": {},
   "outputs": [],
   "source": [
    "from xgboost import XGBClassifier\n",
    "from sklearn.model_selection import RandomizedSearchCV, GridSearchCV\n",
    "from sklearn.model_selection import StratifiedKFold\n",
    "\n",
    "import datetime as dt\n",
    "\n",
    "params = {\n",
    "        \"n_estimators\": [50,100,150,200],\n",
    "        \"max_depth\" : [3, 4, 5, 7],\n",
    "        \"learning_rate\": [0.1, 0.2, 0.3],\n",
    "        'subsample': [0.6, 0.8, 1.0],\n",
    "        'colsample_bytree': [0.6, 0.8, 1.0],\n",
    "        }\n",
    "\n",
    "xgb = XGBClassifier(objective='multi:softmax', num_class=20, silent=True)"
   ]
  },
  {
   "cell_type": "code",
   "execution_count": 17,
   "id": "ddc4244a-a964-4ba7-8017-816a4772ee1c",
   "metadata": {},
   "outputs": [
    {
     "name": "stderr",
     "output_type": "stream",
     "text": [
      "C:\\Users\\ryanr\\AppData\\Local\\Programs\\Python\\Python312\\Lib\\site-packages\\xgboost\\core.py:158: UserWarning: [00:48:24] WARNING: C:\\buildkite-agent\\builds\\buildkite-windows-cpu-autoscaling-group-i-08cbc0333d8d4aae1-1\\xgboost\\xgboost-ci-windows\\src\\learner.cc:740: \n",
      "Parameters: { \"silent\" } are not used.\n",
      "\n",
      "  warnings.warn(smsg, UserWarning)\n"
     ]
    }
   ],
   "source": [
    "random_search = RandomizedSearchCV(xgb, param_distributions = params,\n",
    "                                  n_iter=10,\n",
    "                                  scoring='accuracy',\n",
    "                                  n_jobs = -1,\n",
    "                                  cv = 3,\n",
    "                                verbose=0)\n",
    "\n",
    "start = dt.datetime.now()\n",
    "random_search.fit(X_train, Y_train)\n",
    "end = dt.datetime.now()"
   ]
  },
  {
   "cell_type": "code",
   "execution_count": 16,
   "id": "4148556c-b249-45cf-b91f-d63db2b1041a",
   "metadata": {},
   "outputs": [
    {
     "name": "stdout",
     "output_type": "stream",
     "text": [
      "Parameters:{'subsample': 0.8, 'n_estimators': 100, 'max_depth': 5, 'learning_rate': 0.1, 'colsample_bytree': 0.8} Mean_score: 0.9027777777777778 Rank: 1\n",
      "Parameters:{'subsample': 1.0, 'n_estimators': 100, 'max_depth': 3, 'learning_rate': 0.3, 'colsample_bytree': 0.6} Mean_score: 0.8968797564687976 Rank: 10\n",
      "Parameters:{'subsample': 0.8, 'n_estimators': 100, 'max_depth': 5, 'learning_rate': 0.2, 'colsample_bytree': 0.8} Mean_score: 0.9014459665144597 Rank: 4\n",
      "Parameters:{'subsample': 0.6, 'n_estimators': 100, 'max_depth': 4, 'learning_rate': 0.3, 'colsample_bytree': 0.8} Mean_score: 0.9006849315068494 Rank: 6\n",
      "Parameters:{'subsample': 0.8, 'n_estimators': 50, 'max_depth': 4, 'learning_rate': 0.3, 'colsample_bytree': 0.6} Mean_score: 0.8988457635717909 Rank: 8\n",
      "Parameters:{'subsample': 0.6, 'n_estimators': 200, 'max_depth': 5, 'learning_rate': 0.1, 'colsample_bytree': 0.8} Mean_score: 0.9026509386098427 Rank: 2\n",
      "Parameters:{'subsample': 0.6, 'n_estimators': 50, 'max_depth': 5, 'learning_rate': 0.2, 'colsample_bytree': 0.8} Mean_score: 0.9019533231861999 Rank: 3\n",
      "Parameters:{'subsample': 1.0, 'n_estimators': 150, 'max_depth': 4, 'learning_rate': 0.1, 'colsample_bytree': 1.0} Mean_score: 0.9005580923389142 Rank: 7\n",
      "Parameters:{'subsample': 1.0, 'n_estimators': 100, 'max_depth': 3, 'learning_rate': 0.3, 'colsample_bytree': 0.8} Mean_score: 0.897767630644343 Rank: 9\n",
      "Parameters:{'subsample': 0.6, 'n_estimators': 150, 'max_depth': 5, 'learning_rate': 0.1, 'colsample_bytree': 0.6} Mean_score: 0.900875190258752 Rank: 5\n"
     ]
    }
   ],
   "source": [
    "res = random_search.cv_results_\n",
    "\n",
    "for i in range(len(res[\"params\"])):\n",
    "    print(f\"Parameters:{res['params'][i]} Mean_score: {res['mean_test_score'][i]} Rank: {res['rank_test_score'][i]}\")"
   ]
  },
  {
   "cell_type": "code",
   "execution_count": 19,
   "id": "eb287299-514c-4f3b-8c62-e91d4306a56f",
   "metadata": {},
   "outputs": [
    {
     "name": "stdout",
     "output_type": "stream",
     "text": [
      "Time taken for fits: 0:01:19.515068\n"
     ]
    }
   ],
   "source": [
    "print(f\"Time taken for fits: {end - start}\")"
   ]
  },
  {
   "cell_type": "code",
   "execution_count": 20,
   "id": "5e0761eb-8c5f-41f8-a447-ca0b5f77693b",
   "metadata": {},
   "outputs": [
    {
     "name": "stdout",
     "output_type": "stream",
     "text": [
      "XGBClassifier(base_score=None, booster=None, callbacks=None,\n",
      "              colsample_bylevel=None, colsample_bynode=None,\n",
      "              colsample_bytree=1.0, device=None, early_stopping_rounds=None,\n",
      "              enable_categorical=False, eval_metric=None, feature_types=None,\n",
      "              gamma=None, grow_policy=None, importance_type=None,\n",
      "              interaction_constraints=None, learning_rate=0.2, max_bin=None,\n",
      "              max_cat_threshold=None, max_cat_to_onehot=None,\n",
      "              max_delta_step=None, max_depth=7, max_leaves=None,\n",
      "              min_child_weight=None, missing=nan, monotone_constraints=None,\n",
      "              multi_strategy=None, n_estimators=150, n_jobs=None, num_class=20,\n",
      "              num_parallel_tree=None, ...)\n"
     ]
    }
   ],
   "source": [
    "print(random_search.best_estimator_)"
   ]
  },
  {
   "cell_type": "code",
   "execution_count": 21,
   "id": "e2c74e4c-f811-4631-83aa-3ea3059d0415",
   "metadata": {},
   "outputs": [
    {
     "name": "stderr",
     "output_type": "stream",
     "text": [
      "C:\\Users\\ryanr\\AppData\\Local\\Programs\\Python\\Python312\\Lib\\site-packages\\xgboost\\core.py:158: UserWarning: [01:05:20] WARNING: C:\\buildkite-agent\\builds\\buildkite-windows-cpu-autoscaling-group-i-08cbc0333d8d4aae1-1\\xgboost\\xgboost-ci-windows\\src\\learner.cc:740: \n",
      "Parameters: { \"silent\" } are not used.\n",
      "\n",
      "  warnings.warn(smsg, UserWarning)\n"
     ]
    },
    {
     "name": "stdout",
     "output_type": "stream",
     "text": [
      "Model acc 0.898808014202384\n"
     ]
    }
   ],
   "source": [
    "xgb = random_search.best_estimator_\n",
    "xgb.fit(X_train, Y_train)\n",
    "\n",
    "print(\"Model acc\", xgb.score(X_test, Y_test))"
   ]
  },
  {
   "cell_type": "code",
   "execution_count": 22,
   "id": "d4fc8906-fa30-4e3a-8a1b-2acc69f44de8",
   "metadata": {},
   "outputs": [
    {
     "data": {
      "text/plain": [
       "0.9982876712328768"
      ]
     },
     "execution_count": 22,
     "metadata": {},
     "output_type": "execute_result"
    }
   ],
   "source": [
    "xgb.score(X_train, Y_train) "
   ]
  },
  {
   "cell_type": "code",
   "execution_count": null,
   "id": "70722ff5-7284-45c0-b842-ac890f799ec5",
   "metadata": {},
   "outputs": [],
   "source": []
  }
 ],
 "metadata": {
  "kernelspec": {
   "display_name": "Python 3 (ipykernel)",
   "language": "python",
   "name": "python3"
  },
  "language_info": {
   "codemirror_mode": {
    "name": "ipython",
    "version": 3
   },
   "file_extension": ".py",
   "mimetype": "text/x-python",
   "name": "python",
   "nbconvert_exporter": "python",
   "pygments_lexer": "ipython3",
   "version": "3.12.5"
  }
 },
 "nbformat": 4,
 "nbformat_minor": 5
}
